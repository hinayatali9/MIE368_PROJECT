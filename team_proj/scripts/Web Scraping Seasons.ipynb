{
 "cells": [
  {
   "cell_type": "markdown",
   "id": "4562b2a5",
   "metadata": {},
   "source": [
    "## Data Ingestion and Cleaning"
   ]
  },
  {
   "cell_type": "code",
   "execution_count": 1,
   "id": "64c5eca5",
   "metadata": {},
   "outputs": [],
   "source": [
    "import pandas as pd\n",
    "import numpy as np\n",
    "import warnings\n",
    "warnings.filterwarnings('ignore')\n",
    "\n",
    "year1 = range(2001,2005) \n",
    "year2 = range(2006,2024)\n",
    "years = list(year1) + list(year2)\n",
    "\n",
    "scores_dict = {}\n",
    "playoff_scores_dict = {}"
   ]
  },
  {
   "cell_type": "code",
   "execution_count": 2,
   "id": "6273605e",
   "metadata": {},
   "outputs": [
    {
     "name": "stdout",
     "output_type": "stream",
     "text": [
      "Collecting html5lib\n",
      "  Using cached html5lib-1.1-py2.py3-none-any.whl (112 kB)\n",
      "Requirement already satisfied: six>=1.9 in c:\\users\\gabriel\\appdata\\local\\packages\\pythonsoftwarefoundation.python.3.9_qbz5n2kfra8p0\\localcache\\local-packages\\python39\\site-packages (from html5lib) (1.16.0)\n",
      "Requirement already satisfied: webencodings in c:\\users\\gabriel\\appdata\\local\\packages\\pythonsoftwarefoundation.python.3.9_qbz5n2kfra8p0\\localcache\\local-packages\\python39\\site-packages (from html5lib) (0.5.1)\n",
      "Installing collected packages: html5lib\n",
      "Successfully installed html5lib-1.1\n"
     ]
    },
    {
     "name": "stderr",
     "output_type": "stream",
     "text": [
      "\n",
      "[notice] A new release of pip is available: 23.2.1 -> 23.3\n",
      "[notice] To update, run: C:\\Users\\Gabriel\\AppData\\Local\\Microsoft\\WindowsApps\\PythonSoftwareFoundation.Python.3.9_qbz5n2kfra8p0\\python.exe -m pip install --upgrade pip\n"
     ]
    }
   ],
   "source": [
    "!pip install html5lib"
   ]
  },
  {
   "cell_type": "code",
   "execution_count": 3,
   "id": "b0e21eed",
   "metadata": {
    "scrolled": true
   },
   "outputs": [],
   "source": [
    "for i in years:\n",
    "    url = \"https://www.hockey-reference.com/leagues/NHL_\" + str(i) + \"_games.html\"\n",
    "    scores_dict[str(i)], playoff_scores_dict['playoffs' + str(i)] = pd.read_html(url)"
   ]
  },
  {
   "cell_type": "code",
   "execution_count": 4,
   "id": "dd3ca01e",
   "metadata": {},
   "outputs": [],
   "source": [
    "def map_to_binary(value):\n",
    "    if pd.notna(value) and value in ['OT', 'SO']:\n",
    "        return 1\n",
    "    return 0"
   ]
  },
  {
   "cell_type": "code",
   "execution_count": 5,
   "id": "288c40fb",
   "metadata": {},
   "outputs": [],
   "source": [
    "for df in scores_dict:\n",
    "    scores_dict[df].drop(columns = ['Att.', 'LOG', 'Notes'], inplace = True)\n",
    "    scores_dict[df].rename(columns = {'G':'G_Vis', 'G.1':'G_Home', 'Unnamed: 5':'OT Ind'}, inplace = True)\n",
    "    scores_dict[df]['OT Ind'] = scores_dict[df]['OT Ind'].apply(map_to_binary)\n",
    "        \n",
    "for df in playoff_scores_dict:\n",
    "    playoff_scores_dict[df].drop(columns = ['Att.', 'LOG', 'Notes'], inplace = True)\n",
    "    playoff_scores_dict[df].rename(columns = {'G':'G_Vis', 'G.1':'G_Home', 'Unnamed: 5':'OT Ind'}, inplace = True)\n",
    "    playoff_scores_dict[df]['OT Ind'] = playoff_scores_dict[df]['OT Ind'].apply(map_to_binary)"
   ]
  },
  {
   "cell_type": "code",
   "execution_count": 6,
   "id": "9813db8b",
   "metadata": {},
   "outputs": [
    {
     "data": {
      "text/html": [
       "<div>\n",
       "<style scoped>\n",
       "    .dataframe tbody tr th:only-of-type {\n",
       "        vertical-align: middle;\n",
       "    }\n",
       "\n",
       "    .dataframe tbody tr th {\n",
       "        vertical-align: top;\n",
       "    }\n",
       "\n",
       "    .dataframe thead th {\n",
       "        text-align: right;\n",
       "    }\n",
       "</style>\n",
       "<table border=\"1\" class=\"dataframe\">\n",
       "  <thead>\n",
       "    <tr style=\"text-align: right;\">\n",
       "      <th></th>\n",
       "      <th>Date</th>\n",
       "      <th>Visitor</th>\n",
       "      <th>G_Vis</th>\n",
       "      <th>Home</th>\n",
       "      <th>G_Home</th>\n",
       "      <th>OT Ind</th>\n",
       "    </tr>\n",
       "  </thead>\n",
       "  <tbody>\n",
       "    <tr>\n",
       "      <th>0</th>\n",
       "      <td>2021-10-12</td>\n",
       "      <td>Pittsburgh Penguins</td>\n",
       "      <td>6</td>\n",
       "      <td>Tampa Bay Lightning</td>\n",
       "      <td>2</td>\n",
       "      <td>0</td>\n",
       "    </tr>\n",
       "    <tr>\n",
       "      <th>1</th>\n",
       "      <td>2021-10-12</td>\n",
       "      <td>Seattle Kraken</td>\n",
       "      <td>3</td>\n",
       "      <td>Vegas Golden Knights</td>\n",
       "      <td>4</td>\n",
       "      <td>0</td>\n",
       "    </tr>\n",
       "    <tr>\n",
       "      <th>2</th>\n",
       "      <td>2021-10-13</td>\n",
       "      <td>Winnipeg Jets</td>\n",
       "      <td>1</td>\n",
       "      <td>Anaheim Ducks</td>\n",
       "      <td>4</td>\n",
       "      <td>0</td>\n",
       "    </tr>\n",
       "    <tr>\n",
       "      <th>3</th>\n",
       "      <td>2021-10-13</td>\n",
       "      <td>Chicago Blackhawks</td>\n",
       "      <td>2</td>\n",
       "      <td>Colorado Avalanche</td>\n",
       "      <td>4</td>\n",
       "      <td>0</td>\n",
       "    </tr>\n",
       "    <tr>\n",
       "      <th>4</th>\n",
       "      <td>2021-10-13</td>\n",
       "      <td>Vancouver Canucks</td>\n",
       "      <td>2</td>\n",
       "      <td>Edmonton Oilers</td>\n",
       "      <td>3</td>\n",
       "      <td>1</td>\n",
       "    </tr>\n",
       "    <tr>\n",
       "      <th>...</th>\n",
       "      <td>...</td>\n",
       "      <td>...</td>\n",
       "      <td>...</td>\n",
       "      <td>...</td>\n",
       "      <td>...</td>\n",
       "      <td>...</td>\n",
       "    </tr>\n",
       "    <tr>\n",
       "      <th>1307</th>\n",
       "      <td>2022-04-29</td>\n",
       "      <td>San Jose Sharks</td>\n",
       "      <td>0</td>\n",
       "      <td>Seattle Kraken</td>\n",
       "      <td>3</td>\n",
       "      <td>0</td>\n",
       "    </tr>\n",
       "    <tr>\n",
       "      <th>1308</th>\n",
       "      <td>2022-04-29</td>\n",
       "      <td>Vegas Golden Knights</td>\n",
       "      <td>7</td>\n",
       "      <td>St. Louis Blues</td>\n",
       "      <td>4</td>\n",
       "      <td>0</td>\n",
       "    </tr>\n",
       "    <tr>\n",
       "      <th>1309</th>\n",
       "      <td>2022-04-29</td>\n",
       "      <td>Boston Bruins</td>\n",
       "      <td>2</td>\n",
       "      <td>Toronto Maple Leafs</td>\n",
       "      <td>5</td>\n",
       "      <td>0</td>\n",
       "    </tr>\n",
       "    <tr>\n",
       "      <th>1310</th>\n",
       "      <td>2022-04-29</td>\n",
       "      <td>Calgary Flames</td>\n",
       "      <td>1</td>\n",
       "      <td>Winnipeg Jets</td>\n",
       "      <td>3</td>\n",
       "      <td>0</td>\n",
       "    </tr>\n",
       "    <tr>\n",
       "      <th>1311</th>\n",
       "      <td>2022-05-01</td>\n",
       "      <td>Seattle Kraken</td>\n",
       "      <td>3</td>\n",
       "      <td>Winnipeg Jets</td>\n",
       "      <td>4</td>\n",
       "      <td>0</td>\n",
       "    </tr>\n",
       "  </tbody>\n",
       "</table>\n",
       "<p>1312 rows × 6 columns</p>\n",
       "</div>"
      ],
      "text/plain": [
       "            Date               Visitor  G_Vis                  Home  G_Home  \\\n",
       "0     2021-10-12   Pittsburgh Penguins      6   Tampa Bay Lightning       2   \n",
       "1     2021-10-12        Seattle Kraken      3  Vegas Golden Knights       4   \n",
       "2     2021-10-13         Winnipeg Jets      1         Anaheim Ducks       4   \n",
       "3     2021-10-13    Chicago Blackhawks      2    Colorado Avalanche       4   \n",
       "4     2021-10-13     Vancouver Canucks      2       Edmonton Oilers       3   \n",
       "...          ...                   ...    ...                   ...     ...   \n",
       "1307  2022-04-29       San Jose Sharks      0        Seattle Kraken       3   \n",
       "1308  2022-04-29  Vegas Golden Knights      7       St. Louis Blues       4   \n",
       "1309  2022-04-29         Boston Bruins      2   Toronto Maple Leafs       5   \n",
       "1310  2022-04-29        Calgary Flames      1         Winnipeg Jets       3   \n",
       "1311  2022-05-01        Seattle Kraken      3         Winnipeg Jets       4   \n",
       "\n",
       "      OT Ind  \n",
       "0          0  \n",
       "1          0  \n",
       "2          0  \n",
       "3          0  \n",
       "4          1  \n",
       "...      ...  \n",
       "1307       0  \n",
       "1308       0  \n",
       "1309       0  \n",
       "1310       0  \n",
       "1311       0  \n",
       "\n",
       "[1312 rows x 6 columns]"
      ]
     },
     "execution_count": 6,
     "metadata": {},
     "output_type": "execute_result"
    }
   ],
   "source": [
    "scores_dict['2022']"
   ]
  },
  {
   "cell_type": "markdown",
   "id": "2ebbfd4c-a23f-4f9d-898a-8ab42d66e9f9",
   "metadata": {},
   "source": [
    "## Export"
   ]
  },
  {
   "cell_type": "code",
   "execution_count": 7,
   "id": "44ccb3fb-c569-4671-aa88-7df16a2e20f5",
   "metadata": {},
   "outputs": [],
   "source": [
    "for df in scores_dict:\n",
    "    scores_dict[df].to_csv('C:/Users/Gabriel/Documents/MIE368/Data/season_' + str(df) + '_data.csv', index=False)"
   ]
  },
  {
   "cell_type": "code",
   "execution_count": 8,
   "id": "6342b5e4-39dc-4f8b-ab36-d29096277741",
   "metadata": {},
   "outputs": [],
   "source": [
    "for df in playoff_scores_dict:\n",
    "    playoff_scores_dict[df].to_csv('C:/Users/Gabriel/Documents/MIE368/Data/season_' + str(df) + '_data.csv', index=False)"
   ]
  }
 ],
 "metadata": {
  "kernelspec": {
   "display_name": "Python 3 (ipykernel)",
   "language": "python",
   "name": "python3"
  },
  "language_info": {
   "codemirror_mode": {
    "name": "ipython",
    "version": 3
   },
   "file_extension": ".py",
   "mimetype": "text/x-python",
   "name": "python",
   "nbconvert_exporter": "python",
   "pygments_lexer": "ipython3",
   "version": "3.11.4"
  }
 },
 "nbformat": 4,
 "nbformat_minor": 5
}
