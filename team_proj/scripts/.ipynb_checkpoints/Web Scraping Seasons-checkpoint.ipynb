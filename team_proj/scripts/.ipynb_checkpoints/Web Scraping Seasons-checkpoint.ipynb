{
 "cells": [
  {
   "cell_type": "markdown",
   "id": "4562b2a5",
   "metadata": {},
   "source": [
    "## Data Ingestion and Cleaning"
   ]
  },
  {
   "cell_type": "code",
   "execution_count": 3,
   "id": "64c5eca5",
   "metadata": {},
   "outputs": [],
   "source": [
    "import pandas as pd\n",
    "import numpy as np\n",
    "import warnings\n",
    "warnings.filterwarnings('ignore')\n",
    "\n",
    "year1 = range(2001,2005) \n",
    "year2 = range(2006,2024)\n",
    "years = list(year1) + list(year2)\n",
    "\n",
    "scores_dict = {}\n",
    "playoff_scores_dict = {}"
   ]
  },
  {
   "cell_type": "code",
   "execution_count": 4,
   "id": "6273605e",
   "metadata": {},
   "outputs": [
    {
     "name": "stdout",
     "output_type": "stream",
     "text": [
      "Requirement already satisfied: html5lib in c:\\users\\gabriel\\appdata\\local\\packages\\pythonsoftwarefoundation.python.3.9_qbz5n2kfra8p0\\localcache\\local-packages\\python39\\site-packages (1.1)\n",
      "Requirement already satisfied: six>=1.9 in c:\\users\\gabriel\\appdata\\local\\packages\\pythonsoftwarefoundation.python.3.9_qbz5n2kfra8p0\\localcache\\local-packages\\python39\\site-packages (from html5lib) (1.16.0)\n",
      "Requirement already satisfied: webencodings in c:\\users\\gabriel\\appdata\\local\\packages\\pythonsoftwarefoundation.python.3.9_qbz5n2kfra8p0\\localcache\\local-packages\\python39\\site-packages (from html5lib) (0.5.1)\n"
     ]
    },
    {
     "name": "stderr",
     "output_type": "stream",
     "text": [
      "\n",
      "[notice] A new release of pip is available: 23.2.1 -> 23.3\n",
      "[notice] To update, run: C:\\Users\\Gabriel\\AppData\\Local\\Microsoft\\WindowsApps\\PythonSoftwareFoundation.Python.3.9_qbz5n2kfra8p0\\python.exe -m pip install --upgrade pip\n"
     ]
    }
   ],
   "source": [
    "!pip install html5lib"
   ]
  },
  {
   "cell_type": "code",
   "execution_count": 5,
   "id": "b0e21eed",
   "metadata": {
    "scrolled": true
   },
   "outputs": [],
   "source": [
    "for i in years:\n",
    "    url = \"https://www.hockey-reference.com/leagues/NHL_\" + str(i) + \"_games.html\"\n",
    "    scores_dict[str(i)], playoff_scores_dict['playoffs' + str(i)] = pd.read_html(url)"
   ]
  },
  {
   "cell_type": "code",
   "execution_count": 6,
   "id": "dd3ca01e",
   "metadata": {},
   "outputs": [],
   "source": [
    "def map_to_binary(value):\n",
    "    if pd.notna(value) and value in ['OT', 'SO']:\n",
    "        return 1\n",
    "    return 0"
   ]
  },
  {
   "cell_type": "code",
   "execution_count": 7,
   "id": "288c40fb",
   "metadata": {},
   "outputs": [],
   "source": [
    "for df in scores_dict:\n",
    "    scores_dict[df].drop(columns = ['Att.', 'LOG', 'Notes'], inplace = True)\n",
    "    scores_dict[df].rename(columns = {'G':'G_Vis', 'G.1':'G_Home', 'Unnamed: 5':'OT Ind'}, inplace = True)\n",
    "    scores_dict[df]['OT Ind'] = scores_dict[df]['OT Ind'].apply(map_to_binary)\n",
    "        \n",
    "for df in playoff_scores_dict:\n",
    "    playoff_scores_dict[df].drop(columns = ['Att.', 'LOG', 'Notes'], inplace = True)\n",
    "    playoff_scores_dict[df].rename(columns = {'G':'G_Vis', 'G.1':'G_Home', 'Unnamed: 5':'OT Ind'}, inplace = True)\n",
    "    playoff_scores_dict[df]['OT Ind'] = playoff_scores_dict[df]['OT Ind'].apply(map_to_binary)"
   ]
  },
  {
   "cell_type": "code",
   "execution_count": 12,
   "id": "9d17b9f0-beda-477d-b105-cd56c60867dc",
   "metadata": {},
   "outputs": [],
   "source": [
    "combined_dataframes = []\n",
    "combined_dataframes2 = []\n",
    "\n",
    "for season, df in scores_dict.items():\n",
    "    df['Season'] = season\n",
    "    combined_dataframes.append(df)\n",
    "\n",
    "for season, df in playoff_scores_dict.items():\n",
    "    df['Season'] = season\n",
    "    combined_dataframes2.append(df)\n",
    "\n",
    "final_dataframe = pd.concat(combined_dataframes, ignore_index=True)\n",
    "\n",
    "final_playoff_dataframe = pd.concat(combined_dataframes2, ignore_index=True)"
   ]
  },
  {
   "cell_type": "code",
   "execution_count": 15,
   "id": "9813db8b",
   "metadata": {},
   "outputs": [
    {
     "data": {
      "text/html": [
       "<div>\n",
       "<style scoped>\n",
       "    .dataframe tbody tr th:only-of-type {\n",
       "        vertical-align: middle;\n",
       "    }\n",
       "\n",
       "    .dataframe tbody tr th {\n",
       "        vertical-align: top;\n",
       "    }\n",
       "\n",
       "    .dataframe thead th {\n",
       "        text-align: right;\n",
       "    }\n",
       "</style>\n",
       "<table border=\"1\" class=\"dataframe\">\n",
       "  <thead>\n",
       "    <tr style=\"text-align: right;\">\n",
       "      <th></th>\n",
       "      <th>Date</th>\n",
       "      <th>Visitor</th>\n",
       "      <th>G_Vis</th>\n",
       "      <th>Home</th>\n",
       "      <th>G_Home</th>\n",
       "      <th>OT Ind</th>\n",
       "      <th>Season</th>\n",
       "    </tr>\n",
       "  </thead>\n",
       "  <tbody>\n",
       "    <tr>\n",
       "      <th>0</th>\n",
       "      <td>2000-10-04</td>\n",
       "      <td>Colorado Avalanche</td>\n",
       "      <td>2.0</td>\n",
       "      <td>Dallas Stars</td>\n",
       "      <td>2.0</td>\n",
       "      <td>1</td>\n",
       "      <td>2001</td>\n",
       "    </tr>\n",
       "    <tr>\n",
       "      <th>1</th>\n",
       "      <td>2000-10-05</td>\n",
       "      <td>Ottawa Senators</td>\n",
       "      <td>4.0</td>\n",
       "      <td>Boston Bruins</td>\n",
       "      <td>4.0</td>\n",
       "      <td>1</td>\n",
       "      <td>2001</td>\n",
       "    </tr>\n",
       "    <tr>\n",
       "      <th>2</th>\n",
       "      <td>2000-10-05</td>\n",
       "      <td>Chicago Blackhawks</td>\n",
       "      <td>2.0</td>\n",
       "      <td>Buffalo Sabres</td>\n",
       "      <td>4.0</td>\n",
       "      <td>0</td>\n",
       "      <td>2001</td>\n",
       "    </tr>\n",
       "    <tr>\n",
       "      <th>3</th>\n",
       "      <td>2000-10-05</td>\n",
       "      <td>Detroit Red Wings</td>\n",
       "      <td>4.0</td>\n",
       "      <td>Calgary Flames</td>\n",
       "      <td>3.0</td>\n",
       "      <td>0</td>\n",
       "      <td>2001</td>\n",
       "    </tr>\n",
       "    <tr>\n",
       "      <th>4</th>\n",
       "      <td>2000-10-05</td>\n",
       "      <td>Vancouver Canucks</td>\n",
       "      <td>3.0</td>\n",
       "      <td>Philadelphia Flyers</td>\n",
       "      <td>6.0</td>\n",
       "      <td>0</td>\n",
       "      <td>2001</td>\n",
       "    </tr>\n",
       "  </tbody>\n",
       "</table>\n",
       "</div>"
      ],
      "text/plain": [
       "         Date             Visitor  G_Vis                 Home  G_Home  OT Ind  \\\n",
       "0  2000-10-04  Colorado Avalanche    2.0         Dallas Stars     2.0       1   \n",
       "1  2000-10-05     Ottawa Senators    4.0        Boston Bruins     4.0       1   \n",
       "2  2000-10-05  Chicago Blackhawks    2.0       Buffalo Sabres     4.0       0   \n",
       "3  2000-10-05   Detroit Red Wings    4.0       Calgary Flames     3.0       0   \n",
       "4  2000-10-05   Vancouver Canucks    3.0  Philadelphia Flyers     6.0       0   \n",
       "\n",
       "  Season  \n",
       "0   2001  \n",
       "1   2001  \n",
       "2   2001  \n",
       "3   2001  \n",
       "4   2001  "
      ]
     },
     "execution_count": 15,
     "metadata": {},
     "output_type": "execute_result"
    }
   ],
   "source": [
    "final_dataframe.head()"
   ]
  },
  {
   "cell_type": "code",
   "execution_count": 20,
   "id": "7da084f0-7265-4fc3-9fa3-70eee03a033c",
   "metadata": {},
   "outputs": [
    {
     "name": "stdout",
     "output_type": "stream",
     "text": [
      "There are 2 missing values.\n",
      "Rows with NaN values:\n",
      "             Date          Visitor  G_Vis                 Home  G_Home  \\\n",
      "15017  2014-01-24  Ottawa Senators    NaN  Carolina Hurricanes     NaN   \n",
      "\n",
      "       OT Ind Season  \n",
      "15017       0   2014  \n"
     ]
    }
   ],
   "source": [
    "print(f'There are {final_dataframe.isnull().sum().sum()} missing values.')\n",
    "\n",
    "nan_rows = final_dataframe[final_dataframe.isnull().any(axis=1)]\n",
    "\n",
    "# Print the rows with NaN values\n",
    "print(\"Rows with NaN values:\")\n",
    "print(nan_rows)"
   ]
  },
  {
   "cell_type": "code",
   "execution_count": 21,
   "id": "1a10a54c-8db8-4502-aedf-0712ef25a5ca",
   "metadata": {},
   "outputs": [],
   "source": [
    "final_dataframe = final_dataframe.dropna()"
   ]
  },
  {
   "cell_type": "code",
   "execution_count": 24,
   "id": "2842ca07-cc2b-479c-9825-fefe58074474",
   "metadata": {},
   "outputs": [
    {
     "name": "stdout",
     "output_type": "stream",
     "text": [
      "There are 0 missing values.\n"
     ]
    }
   ],
   "source": [
    "print(f'There are {final_playoff_dataframe.isnull().sum().sum()} missing values.')"
   ]
  },
  {
   "cell_type": "markdown",
   "id": "2ebbfd4c-a23f-4f9d-898a-8ab42d66e9f9",
   "metadata": {},
   "source": [
    "## Export"
   ]
  },
  {
   "cell_type": "code",
   "execution_count": 25,
   "id": "44ccb3fb-c569-4671-aa88-7df16a2e20f5",
   "metadata": {},
   "outputs": [],
   "source": [
    "final_dataframe.to_csv('C:/Users/Gabriel/Documents/MIE368/Data/season_data.csv', index=False)"
   ]
  },
  {
   "cell_type": "code",
   "execution_count": 26,
   "id": "6342b5e4-39dc-4f8b-ab36-d29096277741",
   "metadata": {},
   "outputs": [],
   "source": [
    "final_playoff_dataframe.to_csv('C:/Users/Gabriel/Documents/MIE368/Data/playoff_data.csv', index=False)"
   ]
  },
  {
   "cell_type": "code",
   "execution_count": null,
   "id": "aeb74d76-5354-43b3-983d-7e07b0dd9688",
   "metadata": {},
   "outputs": [],
   "source": []
  }
 ],
 "metadata": {
  "kernelspec": {
   "display_name": "Python 3 (ipykernel)",
   "language": "python",
   "name": "python3"
  },
  "language_info": {
   "codemirror_mode": {
    "name": "ipython",
    "version": 3
   },
   "file_extension": ".py",
   "mimetype": "text/x-python",
   "name": "python",
   "nbconvert_exporter": "python",
   "pygments_lexer": "ipython3",
   "version": "3.11.4"
  }
 },
 "nbformat": 4,
 "nbformat_minor": 5
}
