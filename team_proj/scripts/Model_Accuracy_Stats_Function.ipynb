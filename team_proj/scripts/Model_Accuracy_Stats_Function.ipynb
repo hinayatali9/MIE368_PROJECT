{
  "nbformat": 4,
  "nbformat_minor": 0,
  "metadata": {
    "colab": {
      "provenance": []
    },
    "kernelspec": {
      "name": "python3",
      "display_name": "Python 3"
    },
    "language_info": {
      "name": "python"
    }
  },
  "cells": [
    {
      "cell_type": "code",
      "execution_count": null,
      "metadata": {
        "id": "kMqz_uDnAKHx"
      },
      "outputs": [],
      "source": [
        "def model_accuracy_stats(model_points_results, real_points_results):\n",
        "  points_df = pd.merge(model_points_results, real_points_results, on='Team')\n",
        "  points_df['Diff'] = (np.abs(points_df['PTS_y']-points_df['PTS_x']))\n",
        "\n",
        "  MeanAE = np.round(np.sum(points_df['Diff'])/points_df['Diff'].shape[0], decimals = 4)\n",
        "  RSS = np.round(np.sum((points_df['Diff'])**2), decimals = 4)\n",
        "\n",
        "  corr_matrix = np.corrcoef(points_df['PTS_x'], points_df['PTS_y'])\n",
        "  R_sq = np.round(corr_matrix[0,1]**2, decimals = 4)\n",
        "\n",
        "  R_square = np.round(r2_score(points_df['PTS_y'], points_df['PTS_x']), decimals = 4)\n",
        "\n",
        "  ttest_pvalue = np.round(scs.ttest_ind(points_df['PTS_x'], points_df['PTS_y'], equal_var=False)[1], decimals = 4)\n",
        "  ANOVA_pvalue = np.round(scs.f_oneway(points_df['PTS_x'], points_df['PTS_y'])[1], decimals = 4)\n",
        "\n",
        "  names = ['R^2, CoefofDet', 'R^2, CoefofCorr', 'MAE', 'RSS', 't-test p-value', 'ANOVA p-value']\n",
        "  results = [R_square, R_sq, MeanAE, RSS, ttest_pvalue, ANOVA_pvalue]\n",
        "  output = pd.DataFrame([names, results])\n",
        "  output = output.transpose()\n",
        "  output = output.rename(columns={0:'Test', 1:'Statistic'})\n",
        "\n",
        "  display(output)"
      ]
    }
  ]
}