{
 "cells": [
  {
   "cell_type": "code",
   "execution_count": 3,
   "id": "7caddd74-4b57-40b0-b2c7-f4590d462422",
   "metadata": {},
   "outputs": [],
   "source": [
    "import matplotlib.pyplot as plt\n",
    "import numpy as np\n",
    "import pandas as pd\n",
    "import seaborn as sns\n",
    "\n",
    "import warnings\n",
    "warnings.filterwarnings('ignore')\n",
    "\n",
    "year1 = range(2001,2005) \n",
    "year2 = range(2006,2024)\n",
    "years = list(year1) + list(year2)\n",
    "\n",
    "scores_dict = {}\n",
    "playoff_scores_dict = {}"
   ]
  },
  {
   "cell_type": "code",
   "execution_count": 15,
   "id": "57c795a0-9baa-4230-b10b-0e035ae4c44e",
   "metadata": {},
   "outputs": [],
   "source": [
    "for i in years:\n",
    "    scores_dict[str(i)] = pd.read_csv('C:/Users/Gabriel/Documents/MIE368/Data/season_' + str(i) + '_data.csv')\n",
    "    playoff_scores_dict['playoffs' + str(i)] = pd.read_csv('C:/Users/Gabriel/Documents/MIE368/Data/season_playoffs' + str(i) + '_data.csv')"
   ]
  },
  {
   "cell_type": "markdown",
   "id": "3965a820-3815-4d4f-9874-d8b5b39e64db",
   "metadata": {},
   "source": [
    "## Game Result Elo Adjustment"
   ]
  },
  {
   "cell_type": "code",
   "execution_count": 14,
   "id": "63229962-03dc-4cd3-82ff-d7dbb977918a",
   "metadata": {},
   "outputs": [
    {
     "ename": "KeyError",
     "evalue": "'2001'",
     "output_type": "error",
     "traceback": [
      "\u001b[1;31m---------------------------------------------------------------------------\u001b[0m",
      "\u001b[1;31mKeyError\u001b[0m                                  Traceback (most recent call last)",
      "Cell \u001b[1;32mIn[14], line 1\u001b[0m\n\u001b[1;32m----> 1\u001b[0m Teams \u001b[38;5;241m=\u001b[39m scores_dict[\u001b[38;5;124m'\u001b[39m\u001b[38;5;124m2001\u001b[39m\u001b[38;5;124m'\u001b[39m][\u001b[38;5;124m'\u001b[39m\u001b[38;5;124mHome\u001b[39m\u001b[38;5;124m'\u001b[39m]\u001b[38;5;241m.\u001b[39munique()\u001b[38;5;241m.\u001b[39mtolist()\n\u001b[0;32m      3\u001b[0m team_changes \u001b[38;5;241m=\u001b[39m {\n\u001b[0;32m      4\u001b[0m     \u001b[38;5;124m'\u001b[39m\u001b[38;5;124mAtlanta Thrashers\u001b[39m\u001b[38;5;124m'\u001b[39m: \u001b[38;5;124m'\u001b[39m\u001b[38;5;124mWinnipeg Jets\u001b[39m\u001b[38;5;124m'\u001b[39m,\n\u001b[0;32m      5\u001b[0m     \u001b[38;5;124m'\u001b[39m\u001b[38;5;124mPhoenix Coyotes\u001b[39m\u001b[38;5;124m'\u001b[39m: \u001b[38;5;124m'\u001b[39m\u001b[38;5;124mArizona Coyotes\u001b[39m\u001b[38;5;124m'\u001b[39m,\n\u001b[0;32m      6\u001b[0m     \u001b[38;5;124m'\u001b[39m\u001b[38;5;124mMighty Ducks of Anaheim\u001b[39m\u001b[38;5;124m'\u001b[39m: \u001b[38;5;124m'\u001b[39m\u001b[38;5;124mAnaheim Ducks\u001b[39m\u001b[38;5;124m'\u001b[39m\n\u001b[0;32m      7\u001b[0m     \u001b[38;5;66;03m# Add more mappings as needed\u001b[39;00m\n\u001b[0;32m      8\u001b[0m }\n\u001b[0;32m     10\u001b[0m elo_ratings \u001b[38;5;241m=\u001b[39m {}\n",
      "\u001b[1;31mKeyError\u001b[0m: '2001'"
     ]
    }
   ],
   "source": [
    "Teams = scores_dict['2001']['Home'].unique().tolist()\n",
    "\n",
    "team_changes = {\n",
    "    'Atlanta Thrashers': 'Winnipeg Jets',\n",
    "    'Phoenix Coyotes': 'Arizona Coyotes',\n",
    "    'Mighty Ducks of Anaheim': 'Anaheim Ducks'\n",
    "    # Add more mappings as needed\n",
    "}\n",
    "\n",
    "elo_ratings = {}\n",
    "\n",
    "K = 6"
   ]
  },
  {
   "cell_type": "code",
   "execution_count": null,
   "id": "d2fac658-e48e-47da-9940-1e4fd41a9671",
   "metadata": {},
   "outputs": [],
   "source": [
    "def calculate_prob_winning(home_team, away_team, home_goals, away_goals):\n",
    "    \n",
    "    Elo_diff_home = elo_ratings[home_team]-elo_ratings[away_team] + 50  #add extra for home-ice advantage   \n",
    "    #Elo_diff_away = elo_ratings[away_team] - elo_ratings[home_team]\n",
    "    prob_win_home = 1/(10**(-1*Elo_diff_home/400)+1)\n",
    "    #prob_win_away = 1/(10**(-1*Elo_diff_away/400)+1)\n",
    "    prob_win_away = 1 - prob_win_home\n",
    "    \n",
    "    return prob_win_home, prob_win_away, Elo_diff_home"
   ]
  },
  {
   "cell_type": "code",
   "execution_count": null,
   "id": "db7bebe0-df81-4575-98e8-7d4eb4deeaf9",
   "metadata": {},
   "outputs": [],
   "source": [
    "def margin_of_victory(home_goals, away_goals):\n",
    "    \n",
    "    mov = abs(home_goals - away_goals)\n",
    "    mov_mult = 0.6686*np.log(mov)+0.8048\n",
    "    \n",
    "    return mov_mult"
   ]
  },
  {
   "cell_type": "code",
   "execution_count": null,
   "id": "26423d66-c41d-4697-8c13-9e4fe56beb6c",
   "metadata": {},
   "outputs": [],
   "source": [
    "# Function to update ELO ratings after a game\n",
    "def update_elo(home_team, away_team, home_goals, away_goals, season):\n",
    "    \n",
    "    # Map old team names to new ones\n",
    "    home_team = team_changes.get(home_team, home_team)\n",
    "    away_team = team_changes.get(away_team, away_team)\n",
    "    \n",
    "    #print('Home team is ' + str(home_team))\n",
    "    #print('Away team is ' + str(away_team))\n",
    "\n",
    "    if home_team not in elo_ratings:\n",
    "        # New teams added past a certain year start with a different ELO rating\n",
    "        elo_ratings[home_team] = 1490 if season >= 2005 else 1380\n",
    "    if away_team not in elo_ratings:\n",
    "        elo_ratings[away_team] = 1490 if season >= 2005 else 1380\n",
    "\n",
    "     # Calculate the probability of winning the game for each team\n",
    "    home_prob, away_prob, Elo_diff_home = calculate_prob_winning(home_team, away_team, home_goals, away_goals)\n",
    "    \n",
    "     # Update Pregame Favorite Multiplier\n",
    "    if home_goals > away_goals:\n",
    "        home_win = 1\n",
    "        #away_win = 0\n",
    "        winner_elo_diff = Elo_diff_home\n",
    "    elif home_goals < away_goals:\n",
    "        home_win = 0\n",
    "        #away_win = 1\n",
    "        winner_elo_diff = -1*Elo_diff_home\n",
    "    else:\n",
    "        return\n",
    "    \n",
    "    pre_g_fav_h = home_win - home_prob  \n",
    "    #pre_g_fav_a = away_win - away_prob  \n",
    "    \n",
    "    auto_corr = 2.05/(winner_elo_diff*0.001 + 2.05)\n",
    "    \n",
    "     # Adjust ELO shift for margin of victory\n",
    "    mov_multiplier = auto_corr * margin_of_victory(home_goals, away_goals)\n",
    "    #print('home goals:' + str(home_goals))\n",
    "    #print('away goals:' + str(away_goals))\n",
    "    #print('mult is: ' + str(mov_multiplier))\n",
    "    \n",
    "     # Calculate ELO shift based on game result\n",
    "    elo_shift_h = K * mov_multiplier * pre_g_fav_h \n",
    "    #elo_shift_a = K * mov_multiplier * pre_g_fav_a\n",
    "    #print('elo shift is: ' + str(elo_shift_h))\n",
    "    \n",
    "    elo_ratings[home_team] += elo_shift_h\n",
    "    elo_ratings[away_team] -= elo_shift_h\n",
    "    \n",
    "    #print(\"Home team elo is: \" + str(elo_ratings[home_team]))\n",
    "    #print(\"Away team elo is: \" + str(elo_ratings[away_team]))"
   ]
  },
  {
   "cell_type": "markdown",
   "id": "f86ceb12-d8c4-41ea-9fd0-aad5f7e555aa",
   "metadata": {},
   "source": [
    "### Testing Game Result Elo Adjustments"
   ]
  },
  {
   "cell_type": "code",
   "execution_count": null,
   "id": "04fe87d2-0761-47ee-8c91-f916c3c6a6fa",
   "metadata": {},
   "outputs": [],
   "source": [
    "'''\n",
    "# Iterate over seasons and games\n",
    "for season, df in scores_dict.items():\n",
    "    for idx, row in df.iterrows():\n",
    "        update_elo(row['Home'], row['Visitor'], row['G_Home'], row['G_Vis'], int(season))\n",
    "\n",
    "truncated_dict = {k: round(v, 2) for k, v in elo_ratings.items()}\n",
    "print(truncated_dict)\n",
    "'''"
   ]
  },
  {
   "cell_type": "code",
   "execution_count": null,
   "id": "63ba4418-290d-43b7-b981-e72f903abfbd",
   "metadata": {},
   "outputs": [],
   "source": [
    "'''\n",
    "# For testing on one season\n",
    "for idx, row in scores_dict['2001'].iterrows():\n",
    "    update_elo(row['Home'], row['Visitor'], row['G_Home'], row['G_Vis'], 2001)\n",
    "\n",
    "print(elo_ratings)\n",
    "'''"
   ]
  },
  {
   "cell_type": "markdown",
   "id": "fa5f40b7-7604-4df1-bda4-b5516df66456",
   "metadata": {},
   "source": [
    "## End of Season Elo Adjustments"
   ]
  },
  {
   "cell_type": "code",
   "execution_count": null,
   "id": "02493218-ad55-450f-9826-0bbd884afa31",
   "metadata": {},
   "outputs": [],
   "source": [
    "# Initialize variables to store the final Elo ratings for the season\n",
    "final_elo_ratings = {}\n",
    "season_weight = 0.7\n",
    "average_weight = 0.3\n",
    "\n",
    "# Iterate over seasons and games\n",
    "for season, df in scores_dict.items():\n",
    "    for idx, row in df.iterrows():\n",
    "        update_elo(row['Home'], row['Visitor'], row['G_Home'], row['G_Vis'], int(season))\n",
    "\n",
    "    # Calculate the final Elo ratings for the season\n",
    "    final_elo_ratings[season] = dict(elo_ratings)\n",
    "\n",
    "    # Reset elo_ratings for the next season\n",
    "    if int(season) < max(map(int, scores_dict.keys())):\n",
    "        elo_ratings = {}\n",
    "\n",
    "# Calculate the starting Elo ratings for the next season\n",
    "for season in scores_dict.keys():\n",
    "    if int(season) < max(map(int, scores_dict.keys())):\n",
    "        next_season = str(int(season) + 1)\n",
    "        for team in final_elo_ratings[season]:\n",
    "            prev_season_elo = final_elo_ratings[season][team]\n",
    "            league_avg_elo = sum(final_elo_ratings[season].values()) / len(final_elo_ratings[season])\n",
    "            starting_elo = (season_weight * prev_season_elo) + (average_weight * league_avg_elo)\n",
    "            elo_ratings[team] = round(starting_elo, 2)"
   ]
  },
  {
   "cell_type": "code",
   "execution_count": null,
   "id": "9bef20b4-2a9e-4976-b099-bcc4f69620e8",
   "metadata": {},
   "outputs": [],
   "source": [
    "elo_ratings"
   ]
  },
  {
   "cell_type": "markdown",
   "id": "f411293b-6eb9-4fb1-98c9-952745d83a82",
   "metadata": {},
   "source": [
    "### Testing End of Season Adjustments"
   ]
  },
  {
   "cell_type": "code",
   "execution_count": null,
   "id": "071d66bc-df9b-4be0-b735-92e11cd05dbf",
   "metadata": {},
   "outputs": [],
   "source": [
    "test_seasons = ['2001', '2002']\n",
    "test_dict = {}\n",
    "\n",
    "final_elo_ratings = {}\n",
    "season_weight = 0.7\n",
    "average_weight = 0.3\n",
    "\n",
    "for i in test_seasons:\n",
    "    test_dict[i] = scores_dict[i]\n",
    "\n",
    "#print(test_dict)"
   ]
  },
  {
   "cell_type": "code",
   "execution_count": null,
   "id": "743bc6c3-deb5-4a2c-b5c7-7444e0ae1913",
   "metadata": {},
   "outputs": [],
   "source": [
    "# Iterate over seasons and games\n",
    "for season, df in test_dict.items():\n",
    "    for idx, row in df.iterrows():\n",
    "        update_elo(row['Home'], row['Visitor'], row['G_Home'], row['G_Vis'], int(season))\n",
    "    \n",
    "    # Calculate the final Elo ratings for the season\n",
    "    final_elo_ratings[season] = dict(elo_ratings)\n",
    "    print('season: ' + str(season))\n",
    "    print('End of season elo rating is: ' + str(final_elo_ratings))\n",
    "    \n",
    "    # Reset elo_ratings for the next season\n",
    "    if int(season) < max(map(int, test_dict.keys())):\n",
    "        elo_ratings = {}\n",
    "\n",
    "# Calculate the starting Elo ratings for the next season\n",
    "for season in test_dict.keys():\n",
    "    if int(season) < max(map(int, test_dict.keys())):\n",
    "        next_season = str(int(season) + 1)\n",
    "        print('next season is: ' + str(next_season) + '\\n')\n",
    "        for team in final_elo_ratings[season]:\n",
    "            prev_season_elo = final_elo_ratings[season][team]\n",
    "            print('prev season is: ' + str(prev_season_elo))\n",
    "            league_avg_elo = sum(final_elo_ratings[season].values()) / len(final_elo_ratings[season])\n",
    "            print('league_avg: ' + str(league_avg_elo))\n",
    "            starting_elo = (season_weight * prev_season_elo) + (average_weight * league_avg_elo)\n",
    "            print('starting_elo: ' + str(starting_elo))\n",
    "            elo_ratings[team] = round(starting_elo, 2)\n",
    "\n",
    "print(elo_ratings)"
   ]
  }
 ],
 "metadata": {
  "kernelspec": {
   "display_name": "Python 3 (ipykernel)",
   "language": "python",
   "name": "python3"
  },
  "language_info": {
   "codemirror_mode": {
    "name": "ipython",
    "version": 3
   },
   "file_extension": ".py",
   "mimetype": "text/x-python",
   "name": "python",
   "nbconvert_exporter": "python",
   "pygments_lexer": "ipython3",
   "version": "3.11.4"
  }
 },
 "nbformat": 4,
 "nbformat_minor": 5
}
