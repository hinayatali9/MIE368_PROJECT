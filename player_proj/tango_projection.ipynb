{
 "cells": [
  {
   "cell_type": "code",
   "execution_count": 33,
   "metadata": {},
   "outputs": [],
   "source": [
    "import pandas as pd\n",
    "import numpy as np\n",
    "import matplotlib.pyplot as plt"
   ]
  },
  {
   "cell_type": "code",
   "execution_count": 89,
   "metadata": {},
   "outputs": [],
   "source": [
    "# Load and clean data\n",
    "df_skaters = pd.read_csv(\"skaters_1996_2023.csv\")\n",
    "df_skaters = df_skaters[df_skaters['RK'] != 'Rk']\n",
    "\n",
    "df_skaters.sort_values(['PLAYER', 'POS', 'SEASON'], inplace=True)\n",
    "df_skaters['PS'] = df_skaters['PS'].astype('float64')\n",
    "\n",
    "# Define the weights for the past three seasons\n",
    "weights = {1: 0.5, 2: 0.3, 3: 0.2}\n",
    "\n",
    "# Define the age adjustment factors (hypothetical)\n",
    "age_adjustment = {i: 1 - (i - 28) * 0.01 for i in range(18, 50)}\n",
    "\n",
    "def calculate_weighted_ps(player_data: pd.DataFrame):\n",
    "    # Calculate weighted point shares based on past three seasons\n",
    "    weighted_ps = sum(weights[i] * player_data['PS'].shift(i).fillna(player_data['PS']) for i in weights)\n",
    "    return weighted_ps.set_axis(player_data['SEASON'])\n",
    "\n",
    "def apply_age_adjustment(player_data: pd.DataFrame):\n",
    "    # Apply age adjustment factor\n",
    "    player_data['FORECAST_PS'] *= player_data['AGE'].astype(int).apply(lambda x: age_adjustment.get(x, 1))\n",
    "    return player_data['FORECAST_PS'].values\n",
    "\n",
    "def apply_regression(player_data: pd.DataFrame):\n",
    "    # Apply regression towards the mean\n",
    "    league_min_reg = min(1, (50 - (len(player_data) + 1)) / 100)\n",
    "    player_projected_league_average = projected_league_average_ps_per_position[zip(player_data['POS'], player_data['SEASON'])]\n",
    "    # player_projected_league_average = projected_league_average_ps_per_position[player_data['SEASON']]\n",
    "    return (1 - league_min_reg) * player_data['FORECAST_PS'].values + (league_min_reg) * player_projected_league_average.values\n",
    "\n",
    "\n",
    "league_average_ps = df_skaters.groupby(['POS','SEASON'])['PS'].mean().reset_index()\n",
    "projected_league_average_ps_per_position = league_average_ps.groupby('POS').apply(calculate_weighted_ps)\n",
    "# league_average_ps = df_skaters.groupby(['SEASON'])['PS'].mean().reset_index()\n",
    "# projected_league_average_ps_per_position = league_average_ps.groupby('SEASON').apply(calculate_weighted_ps)\n"
   ]
  },
  {
   "cell_type": "code",
   "execution_count": 90,
   "metadata": {},
   "outputs": [
    {
     "data": {
      "text/html": [
       "<div>\n",
       "<style scoped>\n",
       "    .dataframe tbody tr th:only-of-type {\n",
       "        vertical-align: middle;\n",
       "    }\n",
       "\n",
       "    .dataframe tbody tr th {\n",
       "        vertical-align: top;\n",
       "    }\n",
       "\n",
       "    .dataframe thead th {\n",
       "        text-align: right;\n",
       "    }\n",
       "</style>\n",
       "<table border=\"1\" class=\"dataframe\">\n",
       "  <thead>\n",
       "    <tr style=\"text-align: right;\">\n",
       "      <th></th>\n",
       "      <th>PLAYER</th>\n",
       "      <th>POS</th>\n",
       "      <th>SEASON</th>\n",
       "      <th>PS</th>\n",
       "      <th>FORECAST_PS</th>\n",
       "      <th>DELTA_PS</th>\n",
       "    </tr>\n",
       "  </thead>\n",
       "  <tbody>\n",
       "    <tr>\n",
       "      <th>4977</th>\n",
       "      <td>A.J. Greer</td>\n",
       "      <td>LW</td>\n",
       "      <td>2018</td>\n",
       "      <td>0.2</td>\n",
       "      <td>0.012972</td>\n",
       "      <td>0.187028</td>\n",
       "    </tr>\n",
       "    <tr>\n",
       "      <th>4073</th>\n",
       "      <td>A.J. Greer</td>\n",
       "      <td>LW</td>\n",
       "      <td>2019</td>\n",
       "      <td>0.1</td>\n",
       "      <td>0.024745</td>\n",
       "      <td>0.075255</td>\n",
       "    </tr>\n",
       "    <tr>\n",
       "      <th>2274</th>\n",
       "      <td>A.J. Greer</td>\n",
       "      <td>LW</td>\n",
       "      <td>2021</td>\n",
       "      <td>0.0</td>\n",
       "      <td>0.029371</td>\n",
       "      <td>-0.029371</td>\n",
       "    </tr>\n",
       "    <tr>\n",
       "      <th>1287</th>\n",
       "      <td>A.J. Greer</td>\n",
       "      <td>LW</td>\n",
       "      <td>2022</td>\n",
       "      <td>0.2</td>\n",
       "      <td>-0.061931</td>\n",
       "      <td>0.261931</td>\n",
       "    </tr>\n",
       "    <tr>\n",
       "      <th>318</th>\n",
       "      <td>A.J. Greer</td>\n",
       "      <td>LW</td>\n",
       "      <td>2023</td>\n",
       "      <td>1.0</td>\n",
       "      <td>0.028650</td>\n",
       "      <td>0.971350</td>\n",
       "    </tr>\n",
       "    <tr>\n",
       "      <th>...</th>\n",
       "      <td>...</td>\n",
       "      <td>...</td>\n",
       "      <td>...</td>\n",
       "      <td>...</td>\n",
       "      <td>...</td>\n",
       "      <td>...</td>\n",
       "    </tr>\n",
       "    <tr>\n",
       "      <th>18804</th>\n",
       "      <td>Ľuboš Bartečko</td>\n",
       "      <td>LW</td>\n",
       "      <td>2001</td>\n",
       "      <td>1.0</td>\n",
       "      <td>1.646412</td>\n",
       "      <td>-0.646412</td>\n",
       "    </tr>\n",
       "    <tr>\n",
       "      <th>17924</th>\n",
       "      <td>Ľuboš Bartečko</td>\n",
       "      <td>LW</td>\n",
       "      <td>2002</td>\n",
       "      <td>2.1</td>\n",
       "      <td>1.186564</td>\n",
       "      <td>0.913436</td>\n",
       "    </tr>\n",
       "    <tr>\n",
       "      <th>17037</th>\n",
       "      <td>Ľuboš Bartečko</td>\n",
       "      <td>LW</td>\n",
       "      <td>2003</td>\n",
       "      <td>1.8</td>\n",
       "      <td>1.210237</td>\n",
       "      <td>0.589763</td>\n",
       "    </tr>\n",
       "    <tr>\n",
       "      <th>15015</th>\n",
       "      <td>Štefan Ružička</td>\n",
       "      <td>RW</td>\n",
       "      <td>2007</td>\n",
       "      <td>0.5</td>\n",
       "      <td>0.196937</td>\n",
       "      <td>0.303063</td>\n",
       "    </tr>\n",
       "    <tr>\n",
       "      <th>14154</th>\n",
       "      <td>Štefan Ružička</td>\n",
       "      <td>RW</td>\n",
       "      <td>2008</td>\n",
       "      <td>0.5</td>\n",
       "      <td>0.263769</td>\n",
       "      <td>0.236231</td>\n",
       "    </tr>\n",
       "  </tbody>\n",
       "</table>\n",
       "<p>18652 rows × 6 columns</p>\n",
       "</div>"
      ],
      "text/plain": [
       "               PLAYER POS  SEASON   PS  FORECAST_PS  DELTA_PS\n",
       "4977       A.J. Greer  LW    2018  0.2     0.012972  0.187028\n",
       "4073       A.J. Greer  LW    2019  0.1     0.024745  0.075255\n",
       "2274       A.J. Greer  LW    2021  0.0     0.029371 -0.029371\n",
       "1287       A.J. Greer  LW    2022  0.2    -0.061931  0.261931\n",
       "318        A.J. Greer  LW    2023  1.0     0.028650  0.971350\n",
       "...               ...  ..     ...  ...          ...       ...\n",
       "18804  Ľuboš Bartečko  LW    2001  1.0     1.646412 -0.646412\n",
       "17924  Ľuboš Bartečko  LW    2002  2.1     1.186564  0.913436\n",
       "17037  Ľuboš Bartečko  LW    2003  1.8     1.210237  0.589763\n",
       "15015  Štefan Ružička  RW    2007  0.5     0.196937  0.303063\n",
       "14154  Štefan Ružička  RW    2008  0.5     0.263769  0.236231\n",
       "\n",
       "[18652 rows x 6 columns]"
      ]
     },
     "execution_count": 90,
     "metadata": {},
     "output_type": "execute_result"
    }
   ],
   "source": [
    "df_skaters['FORECAST_PS'] = np.nan\n",
    "min_ps = df_skaters['PS'].min()\n",
    "df_skaters['PS'] += abs(min_ps)  # prevent negatives for scaling, reverted in the end\n",
    "\n",
    "\n",
    "# Group by player and apply the forecasting system\n",
    "weighted_ps = df_skaters.groupby('PLAYER').apply(calculate_weighted_ps)\n",
    "df_skaters['FORECAST_PS'] = weighted_ps.values\n",
    "\n",
    "# Find the index of the first season for each combination of PLAYER and POS\n",
    "first_season_indices = df_skaters.groupby(['PLAYER', 'POS'])['SEASON'].idxmin()\n",
    "\n",
    "# Drop these rows from the DataFrame, since can't predict first season\n",
    "df_skaters = df_skaters.drop(first_season_indices)\n",
    "\n",
    "\n",
    "age_adjusted_weighted_ps = df_skaters.groupby('PLAYER').apply(apply_age_adjustment)\n",
    "df_skaters['FORECAST_PS'] = [year_proj for players in age_adjusted_weighted_ps for year_proj in players]\n",
    "\n",
    "mean_reg_weighted_ps = df_skaters.groupby('PLAYER').apply(apply_regression)\n",
    "df_skaters['FORECAST_PS'] = [year_proj for players in mean_reg_weighted_ps for year_proj in players]\n",
    "\n",
    "\n",
    "df_skaters['PS'] -= abs(min_ps)\n",
    "df_skaters['FORECAST_PS'] -= abs(min_ps)\n",
    "\n",
    "df_skaters['DELTA_PS'] = (df_skaters['PS'] - df_skaters['FORECAST_PS'])\n",
    "\n",
    "df_skaters[['PLAYER','POS','SEASON','PS','FORECAST_PS', 'DELTA_PS']]"
   ]
  },
  {
   "cell_type": "code",
   "execution_count": 91,
   "metadata": {},
   "outputs": [
    {
     "data": {
      "text/plain": [
       "(array([  1.,   0.,  11., 153., 317., 150.,  68.,  28.,   8.,   4.]),\n",
       " array([-6.87563659, -5.22609557, -3.57655455, -1.92701353, -0.2774725 ,\n",
       "         1.37206852,  3.02160954,  4.67115056,  6.32069158,  7.97023261,\n",
       "         9.61977363]),\n",
       " <BarContainer object of 10 artists>)"
      ]
     },
     "execution_count": 91,
     "metadata": {},
     "output_type": "execute_result"
    },
    {
     "data": {
      "image/png": "[encoded data removed]",
      "text/plain": [
       "<Figure size 640x480 with 1 Axes>"
      ]
     },
     "metadata": {},
     "output_type": "display_data"
    }
   ],
   "source": [
    "plt.hist(df_skaters['DELTA_PS'])\n",
    "plt.hist(df_skaters_small_reg['DELTA_PS'])"
   ]
  },
  {
   "cell_type": "code",
   "execution_count": 88,
   "metadata": {},
   "outputs": [],
   "source": [
    "df_skaters_small_reg = df_skaters\n"
   ]
  },
  {
   "cell_type": "code",
   "execution_count": 94,
   "metadata": {},
   "outputs": [
    {
     "data": {
      "image/png": "[encoded data removed]",
      "text/plain": [
       "<Figure size 640x480 with 1 Axes>"
      ]
     },
     "metadata": {},
     "output_type": "display_data"
    }
   ],
   "source": [
    "plt.hist(df_skaters['DELTA_PS'], alpha=0.5)\n",
    "plt.hist(df_skaters_small_reg['DELTA_PS'], alpha=0.5)\n",
    "\n",
    "plt.show()"
   ]
  }
 ],
 "metadata": {
  "kernelspec": {
   "display_name": "MIE368_PROJECT-VWV32BGD",
   "language": "python",
   "name": "python3"
  },
  "language_info": {
   "codemirror_mode": {
    "name": "ipython",
    "version": 3
   },
   "file_extension": ".py",
   "mimetype": "text/x-python",
   "name": "python",
   "nbconvert_exporter": "python",
   "pygments_lexer": "ipython3",
   "version": "3.11.5"
  }
 },
 "nbformat": 4,
 "nbformat_minor": 2
}
